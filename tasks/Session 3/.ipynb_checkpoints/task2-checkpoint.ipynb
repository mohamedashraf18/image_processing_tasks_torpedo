{
 "cells": [
  {
   "cell_type": "code",
   "execution_count": 18,
   "id": "3b010ca8-0b6d-4004-b7f2-0b7b84b608f4",
   "metadata": {},
   "outputs": [],
   "source": [
    "import numpy as np\n",
    "import matplotlib.pyplot as plt\n",
    "import cv2"
   ]
  },
  {
   "cell_type": "code",
   "execution_count": null,
   "id": "d9c8b825-5153-4cfc-ae55-76bf967848d9",
   "metadata": {},
   "outputs": [],
   "source": []
  },
  {
   "cell_type": "code",
   "execution_count": null,
   "id": "e0ee4db7-9aeb-4cfe-a5bb-fc2ebf527656",
   "metadata": {},
   "outputs": [],
   "source": []
  },
  {
   "cell_type": "code",
   "execution_count": 19,
   "id": "221868d6-64e1-4bcc-bd0b-7e8c634f028c",
   "metadata": {},
   "outputs": [
    {
     "name": "stdout",
     "output_type": "stream",
     "text": [
      "(600, 700, 3)\n"
     ]
    }
   ],
   "source": [
    "image = cv2.imread('Task 2/first.jpg')\n",
    "image = cv2.resize(image, (700,600))\n",
    "print(image.shape)\n",
    "# convert the image to grayscale format\n",
    "img_gray = cv2.cvtColor(image, cv2.COLOR_BGR2GRAY)"
   ]
  },
  {
   "cell_type": "code",
   "execution_count": 20,
   "id": "ee78c482-e99c-40e7-85e6-e5587c594103",
   "metadata": {},
   "outputs": [],
   "source": [
    "# apply binary thresholding\n",
    "ret, thresh = cv2.threshold(img_gray, 170, 255, cv2.THRESH_BINARY)\n",
    "\n",
    "# visualize the binary image\n",
    "cv2.imshow('Binary image', thresh)\n",
    "cv2.waitKey(0)\n",
    "cv2.imwrite('image_thres1.jpg', thresh)\n",
    "cv2.destroyAllWindows()"
   ]
  },
  {
   "cell_type": "code",
   "execution_count": null,
   "id": "c1bda9a7-d3e8-4f04-847e-46a4d009c4f0",
   "metadata": {},
   "outputs": [],
   "source": []
  },
  {
   "cell_type": "code",
   "execution_count": null,
   "id": "2d699a80-b384-4d90-9698-0f13cdb5c179",
   "metadata": {},
   "outputs": [],
   "source": []
  },
  {
   "cell_type": "code",
   "execution_count": null,
   "id": "e12bc35f-01b5-4b0e-8f6a-c81d845ef484",
   "metadata": {},
   "outputs": [],
   "source": []
  },
  {
   "cell_type": "code",
   "execution_count": 24,
   "id": "4487b0d8-af33-43b0-8cea-d49dff81bc7f",
   "metadata": {},
   "outputs": [],
   "source": [
    "# detect the contours on the binary image using cv2.CHAIN_APPROX_NONE\n",
    "contours, hierarchy = cv2.findContours(image=thresh, mode= cv2.RETR_EXTERNAL, method=cv2.CHAIN_APPROX_NONE)\n",
    "                                      \n",
    "# draw contours on the original image\n",
    "image_copy = image.copy()\n",
    "\n",
    "#cv2.drawContours(image=image_copy, contours=contours, contourIdx=-1, color=(0, 255, 0), thickness=2, lineType=cv2.LINE_AA)\n",
    "for contour in contours:\n",
    "    zeros = np.zeros(image_copy.shape[:2], np.uint8)\n",
    "    cv2.drawContours(image=zeros, contours=[contour], contourIdx=-1, color=(255, 255, 255), thickness=-1, lineType=cv2.LINE_AA)\n",
    "    cv2.imshow('the mask', zeros)\n",
    "    masked = cv2.bitwise_and(image_copy, image_copy, mask=zeros)\n",
    "    cv2.imshow('result', masked)   \n",
    "    cv2.waitKey(0)\n",
    "    cv2.destroyAllWindows()\n",
    "    \n",
    "# see the results\n",
    "#cv2.imshow('None approximation', image_copy)\n",
    "#cv2.waitKey(0)\n",
    "#cv2.imwrite('contours_none_image1.jpg', image_copy)\n",
    "#cv2.destroyAllWindows()"
   ]
  },
  {
   "cell_type": "code",
   "execution_count": null,
   "id": "8299845a-73c4-4053-b1ef-2c811d25aaf3",
   "metadata": {},
   "outputs": [],
   "source": []
  },
  {
   "cell_type": "code",
   "execution_count": null,
   "id": "2bd6bdf9-55e2-435f-bc87-8b6342df817a",
   "metadata": {},
   "outputs": [],
   "source": []
  },
  {
   "cell_type": "code",
   "execution_count": null,
   "id": "a11daa37-fcb3-4f4e-85dd-9cf5f90dc428",
   "metadata": {},
   "outputs": [],
   "source": []
  },
  {
   "cell_type": "code",
   "execution_count": null,
   "id": "6e4e03b0-b3c9-448d-bdc1-df5191ee3fd1",
   "metadata": {},
   "outputs": [],
   "source": []
  },
  {
   "cell_type": "code",
   "execution_count": null,
   "id": "ebd67074-7167-4f1b-9166-490a6cbf4b7e",
   "metadata": {},
   "outputs": [],
   "source": []
  }
 ],
 "metadata": {
  "kernelspec": {
   "display_name": "Python 3 (ipykernel)",
   "language": "python",
   "name": "python3"
  },
  "language_info": {
   "codemirror_mode": {
    "name": "ipython",
    "version": 3
   },
   "file_extension": ".py",
   "mimetype": "text/x-python",
   "name": "python",
   "nbconvert_exporter": "python",
   "pygments_lexer": "ipython3",
   "version": "3.11.4"
  }
 },
 "nbformat": 4,
 "nbformat_minor": 5
}
